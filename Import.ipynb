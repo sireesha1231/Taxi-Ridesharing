{
 "cells": [
  {
   "cell_type": "code",
   "execution_count": 2,
   "metadata": {
    "collapsed": true
   },
   "outputs": [],
   "source": [
    "import pandas as pd\n",
    "import numpy as np"
   ]
  },
  {
   "cell_type": "code",
   "execution_count": 3,
   "metadata": {
    "collapsed": true
   },
   "outputs": [],
   "source": [
    "d= pd.read_csv('rec.csv')"
   ]
  },
  {
   "cell_type": "code",
   "execution_count": 4,
   "metadata": {
    "collapsed": false,
    "scrolled": true
   },
   "outputs": [
    {
     "data": {
      "text/html": [
       "<div>\n",
       "<table border=\"1\" class=\"dataframe\">\n",
       "  <thead>\n",
       "    <tr style=\"text-align: right;\">\n",
       "      <th></th>\n",
       "      <th>medallion</th>\n",
       "      <th>hack_license</th>\n",
       "      <th>pickup_datetime</th>\n",
       "      <th>dropoff_datetime</th>\n",
       "      <th>passenger_count</th>\n",
       "      <th>trip_time_in_secs</th>\n",
       "      <th>trip_distance</th>\n",
       "      <th>pickup_longitude</th>\n",
       "      <th>dropoff_longitude</th>\n",
       "      <th>pickup_latitude</th>\n",
       "      <th>dropoff_latitude</th>\n",
       "      <th>fare_amount</th>\n",
       "      <th>surcharg</th>\n",
       "      <th>mta_tax</th>\n",
       "      <th>tip_amount</th>\n",
       "      <th>tolls_amount</th>\n",
       "      <th>total_amount</th>\n",
       "      <th>new_total</th>\n",
       "    </tr>\n",
       "  </thead>\n",
       "  <tbody>\n",
       "    <tr>\n",
       "      <th>0</th>\n",
       "      <td>2013003229</td>\n",
       "      <td>2013003226</td>\n",
       "      <td>2013-03-26 00:00:00</td>\n",
       "      <td>2013-03-26 00:07:00</td>\n",
       "      <td>1</td>\n",
       "      <td>420</td>\n",
       "      <td>2.63</td>\n",
       "      <td>-73.977592</td>\n",
       "      <td>-73.954391</td>\n",
       "      <td>40.759293</td>\n",
       "      <td>40.784023</td>\n",
       "      <td>9.0</td>\n",
       "      <td>0.5</td>\n",
       "      <td>0.5</td>\n",
       "      <td>2.85</td>\n",
       "      <td>0.0</td>\n",
       "      <td>12.85</td>\n",
       "      <td>12.85</td>\n",
       "    </tr>\n",
       "    <tr>\n",
       "      <th>1</th>\n",
       "      <td>2013007090</td>\n",
       "      <td>2013007086</td>\n",
       "      <td>2013-03-26 00:00:00</td>\n",
       "      <td>2013-03-26 00:02:00</td>\n",
       "      <td>1</td>\n",
       "      <td>120</td>\n",
       "      <td>0.36</td>\n",
       "      <td>-73.957893</td>\n",
       "      <td>-73.960381</td>\n",
       "      <td>40.811256</td>\n",
       "      <td>40.814125</td>\n",
       "      <td>4.0</td>\n",
       "      <td>0.5</td>\n",
       "      <td>0.5</td>\n",
       "      <td>0.90</td>\n",
       "      <td>0.0</td>\n",
       "      <td>5.90</td>\n",
       "      <td>5.90</td>\n",
       "    </tr>\n",
       "    <tr>\n",
       "      <th>2</th>\n",
       "      <td>2013002078</td>\n",
       "      <td>2013002075</td>\n",
       "      <td>2013-03-26 00:00:00</td>\n",
       "      <td>2013-03-26 00:16:00</td>\n",
       "      <td>1</td>\n",
       "      <td>960</td>\n",
       "      <td>5.38</td>\n",
       "      <td>-73.992180</td>\n",
       "      <td>-73.938820</td>\n",
       "      <td>40.734428</td>\n",
       "      <td>40.791225</td>\n",
       "      <td>18.0</td>\n",
       "      <td>0.5</td>\n",
       "      <td>0.5</td>\n",
       "      <td>5.55</td>\n",
       "      <td>0.0</td>\n",
       "      <td>24.55</td>\n",
       "      <td>24.55</td>\n",
       "    </tr>\n",
       "    <tr>\n",
       "      <th>3</th>\n",
       "      <td>2013010107</td>\n",
       "      <td>2013010107</td>\n",
       "      <td>2013-03-26 00:00:00</td>\n",
       "      <td>2013-03-26 00:14:00</td>\n",
       "      <td>1</td>\n",
       "      <td>840</td>\n",
       "      <td>2.70</td>\n",
       "      <td>-73.982513</td>\n",
       "      <td>-73.975044</td>\n",
       "      <td>40.762150</td>\n",
       "      <td>40.735542</td>\n",
       "      <td>13.0</td>\n",
       "      <td>0.5</td>\n",
       "      <td>0.5</td>\n",
       "      <td>0.00</td>\n",
       "      <td>0.0</td>\n",
       "      <td>14.00</td>\n",
       "      <td>14.00</td>\n",
       "    </tr>\n",
       "    <tr>\n",
       "      <th>4</th>\n",
       "      <td>2013009601</td>\n",
       "      <td>2013007484</td>\n",
       "      <td>2013-03-26 00:00:00</td>\n",
       "      <td>2013-03-26 00:20:00</td>\n",
       "      <td>1</td>\n",
       "      <td>1200</td>\n",
       "      <td>6.74</td>\n",
       "      <td>-73.995155</td>\n",
       "      <td>-73.943954</td>\n",
       "      <td>40.749981</td>\n",
       "      <td>40.711658</td>\n",
       "      <td>22.0</td>\n",
       "      <td>0.5</td>\n",
       "      <td>0.5</td>\n",
       "      <td>6.75</td>\n",
       "      <td>0.0</td>\n",
       "      <td>29.75</td>\n",
       "      <td>29.75</td>\n",
       "    </tr>\n",
       "  </tbody>\n",
       "</table>\n",
       "</div>"
      ],
      "text/plain": [
       "    medallion  hack_license      pickup_datetime     dropoff_datetime  \\\n",
       "0  2013003229    2013003226  2013-03-26 00:00:00  2013-03-26 00:07:00   \n",
       "1  2013007090    2013007086  2013-03-26 00:00:00  2013-03-26 00:02:00   \n",
       "2  2013002078    2013002075  2013-03-26 00:00:00  2013-03-26 00:16:00   \n",
       "3  2013010107    2013010107  2013-03-26 00:00:00  2013-03-26 00:14:00   \n",
       "4  2013009601    2013007484  2013-03-26 00:00:00  2013-03-26 00:20:00   \n",
       "\n",
       "   passenger_count  trip_time_in_secs  trip_distance  pickup_longitude  \\\n",
       "0                1                420           2.63        -73.977592   \n",
       "1                1                120           0.36        -73.957893   \n",
       "2                1                960           5.38        -73.992180   \n",
       "3                1                840           2.70        -73.982513   \n",
       "4                1               1200           6.74        -73.995155   \n",
       "\n",
       "   dropoff_longitude  pickup_latitude  dropoff_latitude  fare_amount  \\\n",
       "0         -73.954391        40.759293         40.784023          9.0   \n",
       "1         -73.960381        40.811256         40.814125          4.0   \n",
       "2         -73.938820        40.734428         40.791225         18.0   \n",
       "3         -73.975044        40.762150         40.735542         13.0   \n",
       "4         -73.943954        40.749981         40.711658         22.0   \n",
       "\n",
       "   surcharg  mta_tax  tip_amount  tolls_amount  total_amount  new_total  \n",
       "0       0.5      0.5        2.85           0.0         12.85      12.85  \n",
       "1       0.5      0.5        0.90           0.0          5.90       5.90  \n",
       "2       0.5      0.5        5.55           0.0         24.55      24.55  \n",
       "3       0.5      0.5        0.00           0.0         14.00      14.00  \n",
       "4       0.5      0.5        6.75           0.0         29.75      29.75  "
      ]
     },
     "execution_count": 4,
     "metadata": {},
     "output_type": "execute_result"
    }
   ],
   "source": [
    "d.head()"
   ]
  },
  {
   "cell_type": "code",
   "execution_count": 5,
   "metadata": {
    "collapsed": false
   },
   "outputs": [
    {
     "data": {
      "text/plain": [
       "2470654"
      ]
     },
     "execution_count": 5,
     "metadata": {},
     "output_type": "execute_result"
    }
   ],
   "source": [
    "d['hack_license'].count()"
   ]
  },
  {
   "cell_type": "code",
   "execution_count": 6,
   "metadata": {
    "collapsed": true
   },
   "outputs": [],
   "source": [
    "d['day']=d['pickup_datetime'].apply(lambda x: x.split()[0].split('-')[2])"
   ]
  },
  {
   "cell_type": "code",
   "execution_count": 7,
   "metadata": {
    "collapsed": false
   },
   "outputs": [
    {
     "data": {
      "text/html": [
       "<div>\n",
       "<table border=\"1\" class=\"dataframe\">\n",
       "  <thead>\n",
       "    <tr style=\"text-align: right;\">\n",
       "      <th></th>\n",
       "      <th>medallion</th>\n",
       "      <th>hack_license</th>\n",
       "      <th>pickup_datetime</th>\n",
       "      <th>dropoff_datetime</th>\n",
       "      <th>passenger_count</th>\n",
       "      <th>trip_time_in_secs</th>\n",
       "      <th>trip_distance</th>\n",
       "      <th>pickup_longitude</th>\n",
       "      <th>dropoff_longitude</th>\n",
       "      <th>pickup_latitude</th>\n",
       "      <th>dropoff_latitude</th>\n",
       "      <th>fare_amount</th>\n",
       "      <th>surcharg</th>\n",
       "      <th>mta_tax</th>\n",
       "      <th>tip_amount</th>\n",
       "      <th>tolls_amount</th>\n",
       "      <th>total_amount</th>\n",
       "      <th>new_total</th>\n",
       "      <th>day</th>\n",
       "    </tr>\n",
       "  </thead>\n",
       "  <tbody>\n",
       "    <tr>\n",
       "      <th>0</th>\n",
       "      <td>2013003229</td>\n",
       "      <td>2013003226</td>\n",
       "      <td>2013-03-26 00:00:00</td>\n",
       "      <td>2013-03-26 00:07:00</td>\n",
       "      <td>1</td>\n",
       "      <td>420</td>\n",
       "      <td>2.63</td>\n",
       "      <td>-73.977592</td>\n",
       "      <td>-73.954391</td>\n",
       "      <td>40.759293</td>\n",
       "      <td>40.784023</td>\n",
       "      <td>9.0</td>\n",
       "      <td>0.5</td>\n",
       "      <td>0.5</td>\n",
       "      <td>2.85</td>\n",
       "      <td>0.0</td>\n",
       "      <td>12.85</td>\n",
       "      <td>12.85</td>\n",
       "      <td>26</td>\n",
       "    </tr>\n",
       "    <tr>\n",
       "      <th>1</th>\n",
       "      <td>2013007090</td>\n",
       "      <td>2013007086</td>\n",
       "      <td>2013-03-26 00:00:00</td>\n",
       "      <td>2013-03-26 00:02:00</td>\n",
       "      <td>1</td>\n",
       "      <td>120</td>\n",
       "      <td>0.36</td>\n",
       "      <td>-73.957893</td>\n",
       "      <td>-73.960381</td>\n",
       "      <td>40.811256</td>\n",
       "      <td>40.814125</td>\n",
       "      <td>4.0</td>\n",
       "      <td>0.5</td>\n",
       "      <td>0.5</td>\n",
       "      <td>0.90</td>\n",
       "      <td>0.0</td>\n",
       "      <td>5.90</td>\n",
       "      <td>5.90</td>\n",
       "      <td>26</td>\n",
       "    </tr>\n",
       "    <tr>\n",
       "      <th>2</th>\n",
       "      <td>2013002078</td>\n",
       "      <td>2013002075</td>\n",
       "      <td>2013-03-26 00:00:00</td>\n",
       "      <td>2013-03-26 00:16:00</td>\n",
       "      <td>1</td>\n",
       "      <td>960</td>\n",
       "      <td>5.38</td>\n",
       "      <td>-73.992180</td>\n",
       "      <td>-73.938820</td>\n",
       "      <td>40.734428</td>\n",
       "      <td>40.791225</td>\n",
       "      <td>18.0</td>\n",
       "      <td>0.5</td>\n",
       "      <td>0.5</td>\n",
       "      <td>5.55</td>\n",
       "      <td>0.0</td>\n",
       "      <td>24.55</td>\n",
       "      <td>24.55</td>\n",
       "      <td>26</td>\n",
       "    </tr>\n",
       "    <tr>\n",
       "      <th>3</th>\n",
       "      <td>2013010107</td>\n",
       "      <td>2013010107</td>\n",
       "      <td>2013-03-26 00:00:00</td>\n",
       "      <td>2013-03-26 00:14:00</td>\n",
       "      <td>1</td>\n",
       "      <td>840</td>\n",
       "      <td>2.70</td>\n",
       "      <td>-73.982513</td>\n",
       "      <td>-73.975044</td>\n",
       "      <td>40.762150</td>\n",
       "      <td>40.735542</td>\n",
       "      <td>13.0</td>\n",
       "      <td>0.5</td>\n",
       "      <td>0.5</td>\n",
       "      <td>0.00</td>\n",
       "      <td>0.0</td>\n",
       "      <td>14.00</td>\n",
       "      <td>14.00</td>\n",
       "      <td>26</td>\n",
       "    </tr>\n",
       "    <tr>\n",
       "      <th>4</th>\n",
       "      <td>2013009601</td>\n",
       "      <td>2013007484</td>\n",
       "      <td>2013-03-26 00:00:00</td>\n",
       "      <td>2013-03-26 00:20:00</td>\n",
       "      <td>1</td>\n",
       "      <td>1200</td>\n",
       "      <td>6.74</td>\n",
       "      <td>-73.995155</td>\n",
       "      <td>-73.943954</td>\n",
       "      <td>40.749981</td>\n",
       "      <td>40.711658</td>\n",
       "      <td>22.0</td>\n",
       "      <td>0.5</td>\n",
       "      <td>0.5</td>\n",
       "      <td>6.75</td>\n",
       "      <td>0.0</td>\n",
       "      <td>29.75</td>\n",
       "      <td>29.75</td>\n",
       "      <td>26</td>\n",
       "    </tr>\n",
       "  </tbody>\n",
       "</table>\n",
       "</div>"
      ],
      "text/plain": [
       "    medallion  hack_license      pickup_datetime     dropoff_datetime  \\\n",
       "0  2013003229    2013003226  2013-03-26 00:00:00  2013-03-26 00:07:00   \n",
       "1  2013007090    2013007086  2013-03-26 00:00:00  2013-03-26 00:02:00   \n",
       "2  2013002078    2013002075  2013-03-26 00:00:00  2013-03-26 00:16:00   \n",
       "3  2013010107    2013010107  2013-03-26 00:00:00  2013-03-26 00:14:00   \n",
       "4  2013009601    2013007484  2013-03-26 00:00:00  2013-03-26 00:20:00   \n",
       "\n",
       "   passenger_count  trip_time_in_secs  trip_distance  pickup_longitude  \\\n",
       "0                1                420           2.63        -73.977592   \n",
       "1                1                120           0.36        -73.957893   \n",
       "2                1                960           5.38        -73.992180   \n",
       "3                1                840           2.70        -73.982513   \n",
       "4                1               1200           6.74        -73.995155   \n",
       "\n",
       "   dropoff_longitude  pickup_latitude  dropoff_latitude  fare_amount  \\\n",
       "0         -73.954391        40.759293         40.784023          9.0   \n",
       "1         -73.960381        40.811256         40.814125          4.0   \n",
       "2         -73.938820        40.734428         40.791225         18.0   \n",
       "3         -73.975044        40.762150         40.735542         13.0   \n",
       "4         -73.943954        40.749981         40.711658         22.0   \n",
       "\n",
       "   surcharg  mta_tax  tip_amount  tolls_amount  total_amount  new_total day  \n",
       "0       0.5      0.5        2.85           0.0         12.85      12.85  26  \n",
       "1       0.5      0.5        0.90           0.0          5.90       5.90  26  \n",
       "2       0.5      0.5        5.55           0.0         24.55      24.55  26  \n",
       "3       0.5      0.5        0.00           0.0         14.00      14.00  26  \n",
       "4       0.5      0.5        6.75           0.0         29.75      29.75  26  "
      ]
     },
     "execution_count": 7,
     "metadata": {},
     "output_type": "execute_result"
    }
   ],
   "source": [
    "d.head()"
   ]
  },
  {
   "cell_type": "code",
   "execution_count": 72,
   "metadata": {
    "collapsed": true
   },
   "outputs": [],
   "source": [
    "d['hour']=d['pickup_datetime'].apply(lambda x: x.split()[1].split(':')[0])"
   ]
  },
  {
   "cell_type": "code",
   "execution_count": 73,
   "metadata": {
    "collapsed": false
   },
   "outputs": [
    {
     "data": {
      "text/plain": [
       "Index(['medallion', 'hack_license', 'pickup_datetime', 'dropoff_datetime',\n",
       "       'passenger_count', 'trip_time_in_secs', 'trip_distance',\n",
       "       'pickup_longitude', 'dropoff_longitude', 'pickup_latitude',\n",
       "       'dropoff_latitude', 'fare_amount', 'surcharg', 'mta_tax', 'tip_amount',\n",
       "       'tolls_amount', 'total_amount', 'new_total', 'day', 'hour'],\n",
       "      dtype='object')"
      ]
     },
     "execution_count": 73,
     "metadata": {},
     "output_type": "execute_result"
    }
   ],
   "source": [
    "d.columns"
   ]
  },
  {
   "cell_type": "code",
   "execution_count": 74,
   "metadata": {
    "collapsed": false
   },
   "outputs": [],
   "source": [
    "p=d[(d['pickup_latitude']>40.6725) & (d['pickup_latitude']<40.6925) &(d['pickup_longitude']<-73.9650) & (d['pickup_longitude']>-73.9850)]"
   ]
  },
  {
   "cell_type": "code",
   "execution_count": 75,
   "metadata": {
    "collapsed": false
   },
   "outputs": [
    {
     "data": {
      "text/plain": [
       "9704"
      ]
     },
     "execution_count": 75,
     "metadata": {},
     "output_type": "execute_result"
    }
   ],
   "source": [
    "p['hack_license'].count()"
   ]
  },
  {
   "cell_type": "code",
   "execution_count": 8,
   "metadata": {
    "collapsed": true
   },
   "outputs": [],
   "source": [
    "def sector(lat,lon):\n",
    "    val=0\n",
    "    if ((lat<40.8645) and (lat >40.8145) and (lon>-74.0286) and (lon<-73.9386)):\n",
    "        val= 1\n",
    "    elif ((lat<40.8145) and (lat >40.7645) and (lon>-74.0286) and (lon<-73.9386)):\n",
    "        val=2\n",
    "    elif ((lat<40.7645) and (lat >40.7145) and (lon>-74.0286) and (lon<-73.9386)):\n",
    "        val=3\n",
    "    elif ((lat<40.7145) and (lat >40.6645) and (lon>-74.0286) and (lon<-73.9386)):\n",
    "        val=4\n",
    "    elif ((lat<40.6645) and (lat >40.6145) and (lon>-74.0286) and (lon<-73.9386)):\n",
    "        val=5\n",
    "    elif ((lat<40.6145) and (lat >40.5645) and (lon>-74.0286) and (lon<-73.9386)):\n",
    "        val=6\n",
    "    elif ((lat<40.8645) and (lat >40.8145) and (lon>-73.9386) and (lon<-73.8586)):\n",
    "        val=7\n",
    "    elif ((lat<40.8145) and (lat >40.7645) and (lon>-73.9386) and (lon<-73.8586)):\n",
    "        val=8\n",
    "    elif ((lat<40.7645) and (lat >40.7145) and (lon>-73.9386) and (lon<-73.8586)):\n",
    "        val=9\n",
    "    elif ((lat<40.7145) and (lat >40.6645) and (lon>-73.9386) and (lon<-73.8586)):\n",
    "        val=10\n",
    "    elif ((lat<40.6645) and (lat >40.6145) and (lon>-73.9386) and (lon<-73.8586)):\n",
    "        val=11\n",
    "    elif ((lat<40.6145) and (lat >40.5645) and (lon>-73.9386) and (lon<-73.8586)):\n",
    "        val=12\n",
    "    return val"
   ]
  },
  {
   "cell_type": "code",
   "execution_count": 9,
   "metadata": {
    "collapsed": false
   },
   "outputs": [
    {
     "ename": "NameError",
     "evalue": "name 'p' is not defined",
     "output_type": "error",
     "traceback": [
      "\u001b[0;31m---------------------------------------------------------------------------\u001b[0m",
      "\u001b[0;31mNameError\u001b[0m                                 Traceback (most recent call last)",
      "\u001b[0;32m<ipython-input-9-a1de9993d373>\u001b[0m in \u001b[0;36m<module>\u001b[0;34m()\u001b[0m\n\u001b[1;32m      1\u001b[0m \u001b[0ml\u001b[0m\u001b[1;33m=\u001b[0m\u001b[1;33m[\u001b[0m\u001b[1;33m]\u001b[0m\u001b[1;33m\u001b[0m\u001b[0m\n\u001b[0;32m----> 2\u001b[0;31m \u001b[1;32mfor\u001b[0m \u001b[0mi\u001b[0m \u001b[1;32min\u001b[0m \u001b[0mrange\u001b[0m\u001b[1;33m(\u001b[0m\u001b[0mlen\u001b[0m\u001b[1;33m(\u001b[0m\u001b[0mp\u001b[0m\u001b[1;33m)\u001b[0m\u001b[1;33m)\u001b[0m\u001b[1;33m:\u001b[0m\u001b[1;33m\u001b[0m\u001b[0m\n\u001b[0m\u001b[1;32m      3\u001b[0m     \u001b[0ml\u001b[0m\u001b[1;33m.\u001b[0m\u001b[0mappend\u001b[0m\u001b[1;33m(\u001b[0m\u001b[0msector\u001b[0m\u001b[1;33m(\u001b[0m\u001b[0mp\u001b[0m\u001b[1;33m.\u001b[0m\u001b[0miloc\u001b[0m\u001b[1;33m[\u001b[0m\u001b[0mi\u001b[0m\u001b[1;33m]\u001b[0m\u001b[1;33m[\u001b[0m\u001b[1;34m'dropoff_latitude'\u001b[0m\u001b[1;33m]\u001b[0m\u001b[1;33m,\u001b[0m\u001b[0mp\u001b[0m\u001b[1;33m.\u001b[0m\u001b[0miloc\u001b[0m\u001b[1;33m[\u001b[0m\u001b[0mi\u001b[0m\u001b[1;33m]\u001b[0m\u001b[1;33m[\u001b[0m\u001b[1;34m'dropoff_longitude'\u001b[0m\u001b[1;33m]\u001b[0m\u001b[1;33m)\u001b[0m\u001b[1;33m)\u001b[0m\u001b[1;33m\u001b[0m\u001b[0m\n\u001b[1;32m      4\u001b[0m \u001b[0mp\u001b[0m\u001b[1;33m[\u001b[0m\u001b[1;34m'sector'\u001b[0m\u001b[1;33m]\u001b[0m\u001b[1;33m=\u001b[0m\u001b[0ml\u001b[0m\u001b[1;33m\u001b[0m\u001b[0m\n",
      "\u001b[0;31mNameError\u001b[0m: name 'p' is not defined"
     ]
    }
   ],
   "source": [
    "l=[]\n",
    "for i in range(len(p)):\n",
    "    l.append(sector(p.iloc[i]['dropoff_latitude'],p.iloc[i]['dropoff_longitude']))\n",
    "p['sector']=l"
   ]
  },
  {
   "cell_type": "code",
   "execution_count": 80,
   "metadata": {
    "collapsed": false
   },
   "outputs": [],
   "source": [
    "p26=p[p['day']=='26']\n",
    "p27=p[p['day']=='27']\n",
    "p28=p[p['day']=='28']\n",
    "p29=p[p['day']=='29']\n",
    "p30=p[p['day']=='30']\n",
    "p31=p[p['day']=='31']"
   ]
  },
  {
   "cell_type": "code",
   "execution_count": 81,
   "metadata": {
    "collapsed": false
   },
   "outputs": [],
   "source": [
    "data_p=[p26,p27,p28,p29,p30,p31]"
   ]
  },
  {
   "cell_type": "code",
   "execution_count": 82,
   "metadata": {
    "collapsed": false
   },
   "outputs": [],
   "source": [
    "import pickle\n",
    "pickle.dump(data_p,open('data_days.p','wb'))"
   ]
  },
  {
   "cell_type": "code",
   "execution_count": 83,
   "metadata": {
    "collapsed": false
   },
   "outputs": [
    {
     "name": "stdout",
     "output_type": "stream",
     "text": [
      "4\n"
     ]
    }
   ],
   "source": [
    "# Sector of 'Barclays Center'\n",
    "print(sector(40.6825,-73.9750))"
   ]
  },
  {
   "cell_type": "code",
   "execution_count": null,
   "metadata": {
    "collapsed": true
   },
   "outputs": [],
   "source": []
  }
 ],
 "metadata": {
  "kernelspec": {
   "display_name": "Python [default]",
   "language": "python",
   "name": "python3"
  },
  "language_info": {
   "codemirror_mode": {
    "name": "ipython",
    "version": 3
   },
   "file_extension": ".py",
   "mimetype": "text/x-python",
   "name": "python",
   "nbconvert_exporter": "python",
   "pygments_lexer": "ipython3",
   "version": "3.5.2"
  }
 },
 "nbformat": 4,
 "nbformat_minor": 2
}
