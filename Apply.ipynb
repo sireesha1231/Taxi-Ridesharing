{
 "cells": [
  {
   "cell_type": "code",
   "execution_count": 1,
   "metadata": {
    "collapsed": true
   },
   "outputs": [],
   "source": [
    "import pickle \n",
    "import pandas as pd\n",
    "import numpy as np\n",
    "import requests\n",
    "import json\n"
   ]
  },
  {
   "cell_type": "code",
   "execution_count": 2,
   "metadata": {
    "collapsed": false
   },
   "outputs": [],
   "source": [
    "df=pickle.load(open('data_days.p','rb'))[4]"
   ]
  },
  {
   "cell_type": "code",
   "execution_count": 3,
   "metadata": {
    "collapsed": false
   },
   "outputs": [],
   "source": [
    "df=df[df['hour']=='23']\n",
    "df['minutes']=df['pickup_datetime'].apply(lambda x:int(x.split()[1].split(':')[1]))\n"
   ]
  },
  {
   "cell_type": "code",
   "execution_count": 4,
   "metadata": {
    "collapsed": true
   },
   "outputs": [],
   "source": [
    "df=df[(df['passenger_count']<3) & (df['passenger_count']>0)]"
   ]
  },
  {
   "cell_type": "code",
   "execution_count": 5,
   "metadata": {
    "collapsed": false
   },
   "outputs": [
    {
     "data": {
      "text/plain": [
       "Index(['medallion', 'hack_license', 'pickup_datetime', 'dropoff_datetime',\n",
       "       'passenger_count', 'trip_time_in_secs', 'trip_distance',\n",
       "       'pickup_longitude', 'dropoff_longitude', 'pickup_latitude',\n",
       "       'dropoff_latitude', 'fare_amount', 'surcharg', 'mta_tax', 'tip_amount',\n",
       "       'tolls_amount', 'total_amount', 'new_total', 'day', 'hour', 'sector',\n",
       "       'minutes'],\n",
       "      dtype='object')"
      ]
     },
     "execution_count": 5,
     "metadata": {},
     "output_type": "execute_result"
    }
   ],
   "source": [
    "df.columns"
   ]
  },
  {
   "cell_type": "code",
   "execution_count": 6,
   "metadata": {
    "collapsed": false
   },
   "outputs": [
    {
     "name": "stdout",
     "output_type": "stream",
     "text": [
      "45\n"
     ]
    }
   ],
   "source": [
    "f=df[(df['minutes']>29) &(df['minutes']<40)]\n",
    "print(f['day'].count())\n",
    "x=df[(df['minutes']>29) &(df['minutes']<32)]"
   ]
  },
  {
   "cell_type": "code",
   "execution_count": 13,
   "metadata": {
    "collapsed": true
   },
   "outputs": [],
   "source": [
    "x=df[(df['minutes']>29) &(df['minutes']<35)]"
   ]
  },
  {
   "cell_type": "code",
   "execution_count": 213,
   "metadata": {
    "collapsed": true
   },
   "outputs": [],
   "source": [
    "x=f"
   ]
  },
  {
   "cell_type": "code",
   "execution_count": 14,
   "metadata": {
    "collapsed": false
   },
   "outputs": [
    {
     "data": {
      "text/plain": [
       "4     11\n",
       "3     10\n",
       "5      2\n",
       "10     1\n",
       "Name: sector, dtype: int64"
      ]
     },
     "execution_count": 14,
     "metadata": {},
     "output_type": "execute_result"
    }
   ],
   "source": [
    "x['sector'].value_counts()"
   ]
  },
  {
   "cell_type": "code",
   "execution_count": 15,
   "metadata": {
    "collapsed": false
   },
   "outputs": [],
   "source": [
    "# List sector wise\n",
    "\n",
    "l=[]\n",
    "for i in range(1,13):\n",
    "    dim=[]\n",
    "    for j in range(len(x)):\n",
    "        if x.iloc[j]['sector']==i:\n",
    "            #print (x.iloc[j])\n",
    "            dim.append(x.iloc[j])\n",
    "        \n",
    "    l.append(dim)\n"
   ]
  },
  {
   "cell_type": "code",
   "execution_count": 16,
   "metadata": {
    "collapsed": true
   },
   "outputs": [],
   "source": [
    "def graph(sourcelat,sourcelong,destlat,destlong):\n",
    "    request=''\n",
    "    #'http://localhost:8989/route?point=41.8789%2C-87.6359&point=41.8916%2C-87.6045&vehicle=car'\n",
    "    #http://localhost:8989/?point=jfk&point=manhattan&point=new%20jersey&locale=en-US&vehicle=car&weighting=fastest&elevation=false&layer=Omniscale\n",
    "    request='http://localhost:8989/route?point='+str(sourcelat)+'%2C'+str(sourcelong)+'&point='+str(destlat)+'%2C'+str(destlong)\n",
    "    r=requests.get(request)\n",
    "    result=json.loads(r.text)\n",
    "    dist=((result['paths'][0]['distance']/1000)/1.61)\n",
    "    return dist"
   ]
  },
  {
   "cell_type": "code",
   "execution_count": 17,
   "metadata": {
    "collapsed": false
   },
   "outputs": [],
   "source": [
    "distance=0\n",
    "new_dist=0\n",
    "for i in l:\n",
    "    \n",
    "    for j in range(0,len(i),2):\n",
    "        if(j<len(i)):\n",
    "            distance+=i[j]['trip_distance']\n",
    "            new_dist+=i[j]['trip_distance']\n",
    "#         print(len(i),j)\n",
    "        if(j+1<len(i)):\n",
    "            old=i[j+1]['trip_distance']\n",
    "            distance+=old\n",
    "            new=graph(i[j]['dropoff_latitude'],i[j]['dropoff_longitude'],i[j+1]['dropoff_latitude'],i[j+1]['dropoff_longitude'])\n",
    "            if (new<old):\n",
    "                new_dist+=new        \n",
    "            else:\n",
    "                new_dist+=old\n",
    "            \n",
    "\n",
    "        \n",
    "    \n",
    "    "
   ]
  },
  {
   "cell_type": "code",
   "execution_count": 18,
   "metadata": {
    "collapsed": false
   },
   "outputs": [
    {
     "name": "stdout",
     "output_type": "stream",
     "text": [
      "91.701004333\n"
     ]
    }
   ],
   "source": [
    "print((new_dist/distance)*100)"
   ]
  },
  {
   "cell_type": "code",
   "execution_count": 19,
   "metadata": {
    "collapsed": false
   },
   "outputs": [
    {
     "name": "stdout",
     "output_type": "stream",
     "text": [
      "78.4071099837\n"
     ]
    }
   ],
   "source": [
    "distance=0\n",
    "new_dist=0\n",
    "for i in l:\n",
    "    notlist=[]\n",
    "    for j in range(0,len(i)):\n",
    "        dic={}\n",
    "        if (j not in notlist):\n",
    "            for k in range(0,len(i)):\n",
    "                if(j!=k and (k not in notlist)):\n",
    "                    val=graph(i[j]['dropoff_latitude'],i[j]['dropoff_longitude'],i[k]['dropoff_latitude'],i[k]['dropoff_longitude'])\n",
    "                    dic[val]=k\n",
    "            if(len(dic)!=0):\n",
    "                new=min(dic.keys())+i[j]['trip_distance']\n",
    "                key=dic[min(dic.keys())]\n",
    "                old=i[j]['trip_distance']+i[key]['trip_distance']\n",
    "            else:\n",
    "                old=0\n",
    "                new=9999\n",
    "            if(new<old):\n",
    "                new_dist+=new\n",
    "                distance+=old\n",
    "                notlist.extend([j,key])\n",
    "            else:\n",
    "                new_dist+=i[j]['trip_distance']\n",
    "                distance+=i[j]['trip_distance']\n",
    "                notlist.extend([j])\n",
    "\n",
    "print((new_dist/distance)*100)\n",
    "                    "
   ]
  },
  {
   "cell_type": "code",
   "execution_count": null,
   "metadata": {
    "collapsed": true
   },
   "outputs": [],
   "source": []
  }
 ],
 "metadata": {
  "kernelspec": {
   "display_name": "Python [default]",
   "language": "python",
   "name": "python3"
  },
  "language_info": {
   "codemirror_mode": {
    "name": "ipython",
    "version": 3
   },
   "file_extension": ".py",
   "mimetype": "text/x-python",
   "name": "python",
   "nbconvert_exporter": "python",
   "pygments_lexer": "ipython3",
   "version": "3.5.2"
  }
 },
 "nbformat": 4,
 "nbformat_minor": 2
}
